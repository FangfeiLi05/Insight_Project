{
 "cells": [
  {
   "cell_type": "code",
   "execution_count": null,
   "metadata": {},
   "outputs": [],
   "source": [
    "!git clone https://github.com/FangfeiLi05/Insight_Project.git\n",
    "    \n",
    "#!git clone https://github.com/pbaylies/stylegan-encoder.git\n",
    "#cd stylegan-encoder/\n",
    "#mv stylegan-encoder ./drive/My\\ Drive\n",
    "\n",
    "#!7za e img_celeba.7z.001\n"
   ]
  },
  {
   "cell_type": "code",
   "execution_count": null,
   "metadata": {},
   "outputs": [],
   "source": []
  },
  {
   "cell_type": "code",
   "execution_count": null,
   "metadata": {},
   "outputs": [],
   "source": [
    "!pip install efficientnet\n",
    "\n",
    "#!python ./src/train_resnet.py --help\n",
    "#!python ./src/train_effnet.py --help\n",
    "\n",
    "#!python ./src/train_effnet.py --test_size 256 --batch_size 1024 --loop 10 --max_patience 1\n",
    "#!python ./src/train_resnet.py --test_size 256 --batch_size 1024 --loop 10 --max_patience 1\n",
    "\n",
    "\n",
    "\n",
    "!mkdir images_aligned_001001_001200\n",
    "\n",
    "!python ./src/images_align.py images_raw_001001_001200/ images_aligned_001001_001200/\n",
    "\n",
    "!python ./src/images_encode.py --batch_size=2 --output_video=True --load_effnet=data/finetuned_effnet.h5 images_aligned_001001_001200/ images_reconstructed_001001_001200/ images_latent_001001_001200/\n",
    "\n"
   ]
  },
  {
   "cell_type": "code",
   "execution_count": null,
   "metadata": {},
   "outputs": [],
   "source": [
    "#!python ./src/model/cnn_face_attr_celeba.py\n",
    "#the output is ./asset_model/cnn_face_attr_celeba/model_20180927_032934.h5\n",
    "\n",
    "\n",
    "#step_1: get latent representation (512*18 matrix) using \"encode_image.py\" for each image\n",
    "#step_2: get features using \"model_20180927_032934.h5\" for each image\n",
    "#step_3: train latent representation and features\n",
    "\n"
   ]
  },
  {
   "cell_type": "code",
   "execution_count": null,
   "metadata": {},
   "outputs": [],
   "source": [
    "#Load pre-trained model for converting image to feature vector.\n",
    "import numpy as np\n",
    "import PIL\n",
    "import os\n",
    "from keras.models import load_model\n",
    "\n",
    "face_attr_model = load_model('./data/model_20180927_032934.h5')  #use image to predict feature vector\n",
    "\n"
   ]
  }
 ],
 "metadata": {
  "kernelspec": {
   "display_name": "Python 3",
   "language": "python",
   "name": "python3"
  },
  "language_info": {
   "codemirror_mode": {
    "name": "ipython",
    "version": 3
   },
   "file_extension": ".py",
   "mimetype": "text/x-python",
   "name": "python",
   "nbconvert_exporter": "python",
   "pygments_lexer": "ipython3",
   "version": "3.6.8"
  }
 },
 "nbformat": 4,
 "nbformat_minor": 2
}
