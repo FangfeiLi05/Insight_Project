{
 "cells": [
  {
   "cell_type": "code",
   "execution_count": 3,
   "metadata": {},
   "outputs": [
    {
     "data": {
      "text/plain": [
       "array([0.54930614, 0.54930614, 0.54930614, 0.54930614, 0.54930614,\n",
       "       0.54930614, 0.54930614, 0.54930614, 0.54930614, 0.54930614,\n",
       "       0.54930614, 0.54930614, 0.54930614, 0.54930614, 0.54930614,\n",
       "       0.54930614, 0.54930614, 0.54930614, 0.54930614, 0.54930614,\n",
       "       0.54930614, 0.54930614, 0.54930614, 0.54930614, 0.54930614,\n",
       "       0.54930614, 0.54930614, 0.54930614, 0.54930614, 0.54930614,\n",
       "       0.54930614, 0.54930614, 0.54930614, 0.54930614, 0.54930614,\n",
       "       0.54930614, 0.54930614, 0.54930614, 0.54930614, 0.54930614])"
      ]
     },
     "execution_count": 3,
     "metadata": {},
     "output_type": "execute_result"
    }
   ],
   "source": [
    "import numpy as np\n",
    "y = np.ones(40)*0.5\n",
    "np.arctanh(np.clip(y, np.tanh(-3), np.tanh(3)))"
   ]
  },
  {
   "cell_type": "code",
   "execution_count": 4,
   "metadata": {},
   "outputs": [
    {
     "data": {
      "text/plain": [
       "-0.9950547536867305"
      ]
     },
     "execution_count": 4,
     "metadata": {},
     "output_type": "execute_result"
    }
   ],
   "source": [
    "np.tanh(-3)"
   ]
  },
  {
   "cell_type": "code",
   "execution_count": 5,
   "metadata": {},
   "outputs": [
    {
     "data": {
      "text/plain": [
       "0.9950547536867305"
      ]
     },
     "execution_count": 5,
     "metadata": {},
     "output_type": "execute_result"
    }
   ],
   "source": [
    "np.tanh(3)"
   ]
  },
  {
   "cell_type": "code",
   "execution_count": 6,
   "metadata": {},
   "outputs": [
    {
     "data": {
      "text/plain": [
       "array([0.5, 0.5, 0.5, 0.5, 0.5, 0.5, 0.5, 0.5, 0.5, 0.5, 0.5, 0.5, 0.5,\n",
       "       0.5, 0.5, 0.5, 0.5, 0.5, 0.5, 0.5, 0.5, 0.5, 0.5, 0.5, 0.5, 0.5,\n",
       "       0.5, 0.5, 0.5, 0.5, 0.5, 0.5, 0.5, 0.5, 0.5, 0.5, 0.5, 0.5, 0.5,\n",
       "       0.5])"
      ]
     },
     "execution_count": 6,
     "metadata": {},
     "output_type": "execute_result"
    }
   ],
   "source": [
    "np.clip(y, np.tanh(-3), np.tanh(3))"
   ]
  },
  {
   "cell_type": "code",
   "execution_count": 7,
   "metadata": {},
   "outputs": [
    {
     "data": {
      "text/plain": [
       "0.5493061443340549"
      ]
     },
     "execution_count": 7,
     "metadata": {},
     "output_type": "execute_result"
    }
   ],
   "source": [
    "np.arctanh(0.5)"
   ]
  },
  {
   "cell_type": "code",
   "execution_count": 8,
   "metadata": {},
   "outputs": [
    {
     "data": {
      "text/plain": [
       "array([0.        , 0.69314718, 1.09861229])"
      ]
     },
     "execution_count": 8,
     "metadata": {},
     "output_type": "execute_result"
    }
   ],
   "source": [
    "np.log([1,2,3])"
   ]
  },
  {
   "cell_type": "code",
   "execution_count": null,
   "metadata": {},
   "outputs": [],
   "source": [
    "import numpy as np\n",
    "\n",
    "dlatent_array = dlatent_data.reshape((-1, 18*512))\n",
    "dlatent_array_cut = np.copy(dlatent_array)\n",
    "dlatent_array_cut = dlatent_array_cut[:, 0:8*512]\n",
    "\n",
    "\n",
    "feature_gender = np.array([x['faceAttributes']['gender'] == 'male' for x in labels_data])\n",
    "feature_age = np.array([x['faceAttributes']['age'] for x in labels_data])\n",
    "feature_smile = np.array([x['faceAttributes']['smile'] for x in labels_data])\n",
    "feature_anger = np.array([x['faceAttributes']['emotion']['anger'] for x in labels_data])\n",
    "feature_contempt = np.array([x['faceAttributes']['emotion']['contempt'] for x in labels_data])\n",
    "feature_disgust = np.array([x['faceAttributes']['emotion']['disgust'] for x in labels_data])\n",
    "feature_fear = np.array([x['faceAttributes']['emotion']['fear'] for x in labels_data])\n",
    "feature_happiness = np.array([x['faceAttributes']['emotion']['happiness'] for x in labels_data])\n",
    "feature_neutral = np.array([x['faceAttributes']['emotion']['neutral'] for x in labels_data])\n",
    "feature_sadness = np.array([x['faceAttributes']['emotion']['sadness'] for x in labels_data])\n",
    "feature_surprise = np.array([x['faceAttributes']['emotion']['surprise'] for x in labels_data])\n",
    "\n",
    "feature_moustache = np.array([x['faceAttributes']['facialHair']['moustache'] for x in labels_data])\n",
    "feature_beard = np.array([x['faceAttributes']['facialHair']['beard'] for x in labels_data])\n",
    "feature_sideburns = np.array([x['faceAttributes']['facialHair']['sideburns'] for x in labels_data])\n",
    "feature_bald = np.array([x['faceAttributes']['hair']['bald'] for x in labels_data])\n",
    "feature_invisible = np.array([x['faceAttributes']['hair']['invisible'] for x in labels_data])\n",
    "\n",
    "num_example = len(qlatent_data)\n",
    "feature_brownhair = np.zeros(num_example)\n",
    "feature_grayhair = np.zeros(num_example)\n",
    "feature_blondhair = np.zeros(num_example)\n",
    "feature_blackhair = np.zeros(num_example)\n",
    "feature_otherhair = np.zeros(num_example)\n",
    "for i in range(num_example):\n",
    "    tempt = labels_data[i]['faceAttributes']['hair']['hairColor']\n",
    "    color_brown = [x['confidence']*int(x['color'] == 'brown') for x in tempt]\n",
    "    color_gray = [x['confidence']*int(x['color'] == 'gray') for x in tempt]\n",
    "    color_blond = [x['confidence']*int(x['color'] == 'blond') for x in tempt]\n",
    "    color_black = [x['confidence']*int(x['color'] == 'black') for x in tempt]\n",
    "    color_other = [x['confidence']*int(x['color'] == 'other') for x in tempt]\n",
    "    if color_brown:\n",
    "        feature_brownhair[i] = np.max(color_brown)\n",
    "    if color_gray:\n",
    "        feature_grayhair[i] = np.max(color_gray)\n",
    "    if color_blond:\n",
    "        feature_blondhair[i] = np.max(color_blond)\n",
    "    if color_black:\n",
    "        feature_blackhair[i] = np.max(color_black)\n",
    "    if color_other:\n",
    "        feature_otherhair[i] = np.max(color_other)\n",
    "\n",
    "feature_array = np.zeros((num_example, 21), dtype = float)\n",
    "feature_array[:,0] = feature_gender\n",
    "feature_array[:,1] = feature_age\n",
    "feature_array[:,2] = feature_smile\n",
    "feature_array[:,3] = feature_anger\n",
    "feature_array[:,4] = feature_contempt\n",
    "feature_array[:,5] = feature_disgust\n",
    "feature_array[:,6] = feature_fear\n",
    "feature_array[:,7] = feature_happiness\n",
    "feature_array[:,8] = feature_neutral\n",
    "feature_array[:,9] = feature_sadness\n",
    "feature_array[:,10] = feature_surprise\n",
    "feature_array[:,11] = feature_moustache\n",
    "feature_array[:,12] = feature_beard\n",
    "feature_array[:,13] = feature_sideburns\n",
    "feature_array[:,14] = feature_bald\n",
    "feature_array[:,15] = feature_invisible\n",
    "feature_array[:,16] = feature_brownhair\n",
    "feature_array[:,17] = feature_grayhair\n",
    "feature_array[:,18] = feature_blondhair\n",
    "feature_array[:,19] = feature_blackhair\n",
    "feature_array[:,20] = feature_otherhair\n",
    "\n",
    "feature_array_nomalized = feature_array\n",
    "\n",
    "np.save('dlatent_array.npy', dlatent_array)\n",
    "np.save('dlatent_array_cut.npy', dlatent_array_cut)\n",
    "np.save('feature_array.npy', feature_array)\n"
   ]
  },
  {
   "cell_type": "code",
   "execution_count": null,
   "metadata": {},
   "outputs": [],
   "source": [
    "np.max(feature_array, axis = )  #21\n",
    "np.min(feature_array, axis = )  #21\n",
    "np.mean(feature_array, axis = )\n",
    "\n",
    "1/(**-**) * (feature_array - **)\n",
    "\n"
   ]
  }
 ],
 "metadata": {
  "kernelspec": {
   "display_name": "Python 3",
   "language": "python",
   "name": "python3"
  },
  "language_info": {
   "codemirror_mode": {
    "name": "ipython",
    "version": 3
   },
   "file_extension": ".py",
   "mimetype": "text/x-python",
   "name": "python",
   "nbconvert_exporter": "python",
   "pygments_lexer": "ipython3",
   "version": "3.6.8"
  }
 },
 "nbformat": 4,
 "nbformat_minor": 2
}
